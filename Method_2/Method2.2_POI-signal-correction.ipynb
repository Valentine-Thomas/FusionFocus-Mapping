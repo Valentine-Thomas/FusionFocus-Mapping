{
 "cells": [
  {
   "cell_type": "markdown",
   "id": "485eb6f2",
   "metadata": {},
   "source": [
    "# Spatio-temporal analysis of the actin fusion focus component\n",
    "### POI centroid coordinates coorrection\n",
    "\n",
    "To be used after Method2.1 \n",
    "\n",
    "#### Folder architecture:\n",
    "A main folder should contain 'trajectories' folder with reference trajectories ( uncorrected renamed to include 'original' in filename and corrected), cytosolic fluorescent profiles as well as cropped images of POI channel as .tiff as well as 'Coord' folder containg cropped image coordinates list (obtain through i-track macro). \n",
    "\n",
    "\n",
    "\n",
    "\n",
    "#### Package required:\n",
    "-trajalign from Dr. A.Picco (https://apicco.github.io/trajectory_alignment/)\n",
    "\n",
    "-numpy\n",
    "\n",
    "-pandas\n",
    "\n",
    "\n",
    "#### Inputs required:\n",
    "-path: path of the  folder containing the 'trajectories' and 'Coord' subfolders"
   ]
  },
  {
   "cell_type": "code",
   "execution_count": null,
   "id": "6246abc0",
   "metadata": {},
   "outputs": [],
   "source": [
    "# Inputs\n",
    "\n",
    "path='/foldertoprocess'"
   ]
  },
  {
   "cell_type": "code",
   "execution_count": null,
   "id": "05e847dc",
   "metadata": {},
   "outputs": [],
   "source": [
    "path_ROI=os.path.join(path,'Coord')\n",
    "ROI=os.listdir(path_ROI)\n",
    "path_traj=os.path.join(path,'trajectories')\n",
    "Cells=os.listdir(path_traj)"
   ]
  },
  {
   "cell_type": "code",
   "execution_count": null,
   "id": "b568b27a",
   "metadata": {},
   "outputs": [],
   "source": [
    "ct=0\n",
    "for i in range(1):\n",
    "    path_R=os.path.join(path_ROI,ROI[i])\n",
    "    print (path_R)\n",
    "    correct=pd.read_csv(path_R)\n",
    "    print(len(correct.X))\n",
    "    for j in range(len(correct.X)):\n",
    "        path_cell=os.path.join(path_traj,Cells[ct])\n",
    "        event=os.listdir(path_cell)\n",
    "        print('counter is'+str(ct+1))\n",
    "        for k in event:\n",
    "            if k.endswith('_G.txt'):\n",
    "                traj=os.path.join(path_cell,k)\n",
    "                print (traj)\n",
    "                t_l=Traj()\n",
    "                t_l.load(traj, frames = 0 , coord = ( 1 , 2 ) , f = 3)\n",
    "                t_l.save(os.path.join(path_cell,'original_G.txt'))\n",
    "                #print('original x : '+str(t_l.coord()[0]))\n",
    "                #print('correction factor x: '+ str(correct.Y[j]))\n",
    "                #print('corrected x : '+str(t_l.coord()[0]+correct.Y[j]))\n",
    "                y=t_l.coord()[1]+correct.X[j]\n",
    "        ct+=1"
   ]
  },
  {
   "cell_type": "code",
   "execution_count": null,
   "id": "d763d421",
   "metadata": {},
   "outputs": [],
   "source": [
    "#coordinates correction for the green trajectory => blue and red corrected using matlab\n",
    "ct=0\n",
    "for i in range(len(ROI)):\n",
    "    path_R=os.path.join(path_ROI,ROI[i])\n",
    "    print (path_R)\n",
    "    correct=pd.read_csv(path_R)\n",
    "    print(len(correct.X))\n",
    "    for j in range(len(correct.X)):\n",
    "        path_cell=os.path.join(path_traj,Cells[ct])\n",
    "        event=os.listdir(path_cell)\n",
    "        print('counter is'+str(ct))\n",
    "        for k in event:\n",
    "            if k.endswith('_G.txt'):\n",
    "                traj=os.path.join(path_cell,k)\n",
    "                print (traj)\n",
    "                t_l=Traj()\n",
    "                t_l.load(traj, frames = 0 , coord = ( 1 , 2 ) , f = 3)\n",
    "                t_l.save(os.path.join(path_cell,'original_G.txt'))\n",
    "                x=t_l.coord()[0]+correct.Y[j]\n",
    "                y=t_l.coord()[1]+correct.X[j]\n",
    "                t=Traj()\n",
    "                t_l.input_values('coord',[x,y], unit='pixels')\n",
    "                t_l.save(os.path.join(path_cell,'Trajectory_G.txt'))\n",
    "        ct+=1\n",
    "                "
   ]
  }
 ],
 "metadata": {
  "kernelspec": {
   "display_name": "Python 3 (ipykernel)",
   "language": "python",
   "name": "python3"
  },
  "language_info": {
   "codemirror_mode": {
    "name": "ipython",
    "version": 3
   },
   "file_extension": ".py",
   "mimetype": "text/x-python",
   "name": "python",
   "nbconvert_exporter": "python",
   "pygments_lexer": "ipython3",
   "version": "3.8.10"
  }
 },
 "nbformat": 4,
 "nbformat_minor": 5
}
