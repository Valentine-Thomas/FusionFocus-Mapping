{
 "cells": [
  {
   "cell_type": "markdown",
   "id": "2adb3934",
   "metadata": {},
   "source": [
    "# Spatio-temporal analysis of the actin fusion focus component\n",
    "### Compute sets of parameters from aligned trajectorieds\n",
    "\n",
    "Should be used after Method1.2 notebook. \n",
    "\n",
    "#### Package required:\n",
    "-trajalign from Dr. A.Picco (https://apicco.github.io/trajectory_alignment/)\n",
    "\n",
    "-numpy\n",
    "\n",
    "-matplotlib\n",
    "\n",
    "#### Plots produced: \n",
    "-\n",
    "\n",
    "#### Inputs required:\n",
    "-path: path to the folder containing the POI subfolders\n",
    "\n",
    "-files: list of POI subfolders names\n",
    "\n",
    "-colPOI: list of colors associated to each POI for plotting\n",
    "-for each plot: the filename under which it is saved (from cells under 'Plot subtitle')"
   ]
  },
  {
   "cell_type": "code",
   "execution_count": null,
   "id": "14265844",
   "metadata": {},
   "outputs": [],
   "source": [
    "path='/pathtoanalysisfolder' #folder containing the POI subfolders on which to run the alignment\n",
    "folder='/aligned_trajectories/Data/average/' #follow up path to median parameters, if the pipeline is used this should not be changed\n",
    "files =['POI1','POI2']  # list of POI subfolders to treat\n",
    "colPOI=['color1','color2'] # list of each POI colors for plotting\n",
    "n=len(files)"
   ]
  },
  {
   "cell_type": "code",
   "execution_count": null,
   "id": "ce58aaac",
   "metadata": {},
   "outputs": [],
   "source": [
    "#import python packages\n",
    "from trajalign.traj import Traj\n",
    "from trajalign.average import load_directory\n",
    "import numpy as np\n",
    "from matplotlib import pyplot as plt\n",
    "import matplotlib.colors as mcolors\n",
    "import matplotlib.cm\n",
    "import os"
   ]
  },
  {
   "cell_type": "code",
   "execution_count": null,
   "id": "91543975",
   "metadata": {},
   "outputs": [],
   "source": [
    "#plot the .f() component of median trajectories files, the what parameters correspond to the type of data stored in .f()\n",
    "# possible what parameters: 'f' (median fluorescence) , 'distP'(distance from map reference), 'distPM' (distance between references)\n",
    "# as of now, plot parameters such x and y limits can be changed from inside the function\n",
    "\n",
    "def plot_f_info (list, color, names, sample='Rep', what='f'):\n",
    "    \n",
    "    if sample=='tot':\n",
    "        list=[item for sublist in list for item in sublist]\n",
    "        ax=plt.subplot(111)\n",
    "    a=0.1                    # base opacity, can be changed to make curves more opaque\n",
    "    for i in range(len(list)):\n",
    "        x=list[i].t()\n",
    "        y=list[i].f()\n",
    "        sd_u=list[i].f()+list[i].f_err()\n",
    "        sd_l=list[i].f()-list[i].f_err()\n",
    "        if sample=='tot':\n",
    "            col=color[i]\n",
    "            label=names[i]\n",
    "        elif sample == 'Rep':\n",
    "            label='Rep_'+str(i+1)\n",
    "            col=color\n",
    "            \n",
    "        plt.plot(x,y,color=col, alpha =(a+0.4), label=label, linewidth=8)\n",
    "        plt.scatter(x,y,color=col, alpha =(a+0.4),s=36)\n",
    "        if sample == 'Rep':\n",
    "            plt.fill_between(x,sd_u,sd_l,color=col, alpha =a )\n",
    "            a+=0.01\n",
    "        elif sample=='tot':\n",
    "            plt.fill_between(x,sd_u,sd_l,color=col, alpha =a )\n",
    "            plt.plot(x,sd_u,color=col,alpha=0.4,linestyle=':')\n",
    "            plt.plot(x,sd_l,color=col,alpha=0.4,linestyle=':')\n",
    "            \n",
    "        plt.xlim(-100,15)\n",
    "        plt.xlabel ('time from fusion (min)',fontsize=28)\n",
    "        plt.tight_layout()\n",
    "        if sample=='Rep':\n",
    "            plt.title(names,fontsize=32) \n",
    "        handles, labels = plt.gca().get_legend_handles_labels()\n",
    "        labels, ids = np.unique(labels, return_index=True) \n",
    "        handles = [handles[i] for i in ids] \n",
    "        if sample=='tot':\n",
    "            box = ax.get_position()\n",
    "            plt.legend(handles, labels, loc='center right',fontsize=28,bbox_to_anchor=(1.15, 0.5)) \n",
    "        else:\n",
    "            plt.legend(handles, labels, loc='best',fontsize=28) \n",
    "        plt.grid(visible=True)\n",
    "        plt.xticks(fontsize=26)\n",
    "        plt.yticks(fontsize=26)\n",
    "        \n",
    "        if what=='f':\n",
    "            plt.ylim(-0.1,1.1)\n",
    "            plt.ylabel ('median fluorescent int. (AU)',fontsize=28)\n",
    "            plt.vlines(0,-0.1,1.1, color='black',linewidth=4)\n",
    "        \n",
    "        elif what=='distP':\n",
    "            plt.ylim(-150,150)\n",
    "            plt.ylabel ('median distance from reference (nm)',fontsize=28)\n",
    "            plt.hlines(0,-60,15, color='red',linewidth=4)\n",
    "            \n",
    "        elif what=='distPM':\n",
    "            plt.ylim(-10,800)\n",
    "            plt.ylabel ('median distance from Myo_P (nm)',fontsize=28)\n",
    "            plt.hlines(0,-60,15, color='red',linewidth=4)"
   ]
  },
  {
   "cell_type": "code",
   "execution_count": null,
   "id": "bd453cea",
   "metadata": {},
   "outputs": [],
   "source": [
    "#Load datasets\n",
    "Tot_av_POI=[[] for _ in range(n)]\n",
    "Tot_av_Myo_P=[[] for _ in range(n)]\n",
    "Tot_av_Myo_M=[[] for _ in range(n)]\n",
    "\n",
    "Tot_av_distP_POI=[[] for _ in range(n)]\n",
    "Tot_av_distP_M=[[] for _ in range(n)]\n",
    "Tot_av_distM_POI=[[] for _ in range(n)]\n",
    " \n",
    "for i in range (n):\n",
    "    POI= load_directory(path+files[i] + folder,pattern= 'coordinates_POI.txt', comment_char = '#', t_unit='min' ,t= 1, coord = ( 2 ,3 ) , f = 4 ,coord_err=(5 ,6),f_err = 7 ,coord_unit = 'nm' )\n",
    "    Tot_av_POI[i].extend(POI)\n",
    "    MP= load_directory(path+files[i] +folder,pattern= 'coordinates_Myo_P_.txt', comment_char = '#', t_unit='min' ,t= 1, coord = ( 2 ,3 ) , f = 4 ,coord_err=(5 ,6),f_err = 7 ,coord_unit = 'nm' )\n",
    "    Tot_av_Myo_P[i].extend(MP)\n",
    "    MM= load_directory(path+files[i] +folder,pattern= 'coordinates_Myo_M.txt', comment_char = '#', t_unit='min' ,t= 1, coord = ( 2 ,3 ) , f = 4 ,coord_err=(5 ,6),f_err = 7 ,coord_unit = 'nm' )\n",
    "    Tot_av_Myo_M[i].extend(MM)\n",
    "    \n",
    "    dir_POI= load_directory(path+files[i] +folder,pattern= 'P_POI.txt', comment_char = '#', t_unit='min' ,t= 0 , f = 1,f_err = 2 ,f_unit= 'nm' )\n",
    "    Tot_av_distP_POI[i].extend(dir_POI)\n",
    "    dir_MP= load_directory(path+files[i] + folder,pattern= 'P_M.txt', comment_char = '#', t_unit='min' ,t= 0 , f = 1,f_err = 2 ,f_unit= 'nm' )\n",
    "    Tot_av_distP_M[i].extend(dir_MP)\n",
    "    dir_MM= load_directory(path+files[i] +folder,pattern= 'M_POI.txt', comment_char = '#', t_unit='min' ,t= 0 , f = 1,f_err = 2 ,f_unit= 'nm' )\n",
    "    Tot_av_distM_POI[i].extend(dir_MM)"
   ]
  },
  {
   "cell_type": "markdown",
   "id": "665730c0",
   "metadata": {},
   "source": [
    "### Plots\n",
    "Plot will be saved in the analysis folder"
   ]
  },
  {
   "cell_type": "code",
   "execution_count": null,
   "id": "0efcd366",
   "metadata": {},
   "outputs": [],
   "source": [
    "# Plot median distance from reference\n",
    "plt.figure(figsize=(25,10)) \n",
    "plot_f_info(Tot_av_distP_POI,colPOI,files,sample=\"tot\",what='distP')\n",
    "figname=path+'/filename.pdf'     \n",
    "plt.savefig(figname)\n",
    "plt.show()\n",
    "plt.close()"
   ]
  },
  {
   "cell_type": "code",
   "execution_count": null,
   "id": "c471904a",
   "metadata": {},
   "outputs": [],
   "source": [
    "# Plot median fluorescence\n",
    "plt.figure(figsize=(30,20))\n",
    "plot_f_info(Tot_av_POI,colPOI,files,sample=\"tot\",what='f')\n",
    "figname=path+'/filename.pdf'\n",
    "plt.savefig(figname)\n",
    "plt.show()\n",
    "plt.close()"
   ]
  },
  {
   "cell_type": "code",
   "execution_count": null,
   "id": "5fd71791",
   "metadata": {},
   "outputs": [],
   "source": []
  }
 ],
 "metadata": {
  "kernelspec": {
   "display_name": "Python 3 (ipykernel)",
   "language": "python",
   "name": "python3"
  },
  "language_info": {
   "codemirror_mode": {
    "name": "ipython",
    "version": 3
   },
   "file_extension": ".py",
   "mimetype": "text/x-python",
   "name": "python",
   "nbconvert_exporter": "python",
   "pygments_lexer": "ipython3",
   "version": "3.8.10"
  }
 },
 "nbformat": 4,
 "nbformat_minor": 5
}
